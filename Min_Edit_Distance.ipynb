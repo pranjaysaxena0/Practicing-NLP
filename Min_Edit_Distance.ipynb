{
  "nbformat": 4,
  "nbformat_minor": 0,
  "metadata": {
    "colab": {
      "provenance": []
    },
    "kernelspec": {
      "name": "python3",
      "display_name": "Python 3"
    },
    "language_info": {
      "name": "python"
    }
  },
  "cells": [
    {
      "cell_type": "code",
      "execution_count": 5,
      "metadata": {
        "id": "cOJNwp12NXA-"
      },
      "outputs": [],
      "source": [
        "def edit_distance(s1, s2):\n",
        "  m, n = len(s1), len(s2)\n",
        "  dp = [[0 for j in range(n+1)] for i in range(m+1)]\n",
        "  for i in range(m+1):\n",
        "    dp[i][0] = i\n",
        "  for j in range(n+1):\n",
        "    dp[0][j] = j\n",
        "  for i in range(1,m+1):\n",
        "    for j in range(1,n+1):\n",
        "      if s1[i-1] == s2[j-1]:\n",
        "        dp[i][j] = dp[i-1][j-1]\n",
        "      else:\n",
        "        dp[i][j] = 1 + min(dp[i-1][j], dp[i][j-1], dp[i-1][j-1])\n",
        "  return dp[m][n]"
      ]
    },
    {
      "cell_type": "code",
      "source": [
        "s1 = 'kitten'\n",
        "s2 = 'sitting'"
      ],
      "metadata": {
        "id": "1t5aN0fKO_KJ"
      },
      "execution_count": 6,
      "outputs": []
    },
    {
      "cell_type": "code",
      "source": [
        "print(edit_distance(s1,s2))"
      ],
      "metadata": {
        "colab": {
          "base_uri": "https://localhost:8080/"
        },
        "id": "_6NJfYhmPGqO",
        "outputId": "39dfbb85-2359-4e2f-8747-8f57a708335e"
      },
      "execution_count": 7,
      "outputs": [
        {
          "output_type": "stream",
          "name": "stdout",
          "text": [
            "3\n"
          ]
        }
      ]
    },
    {
      "cell_type": "code",
      "source": [
        "s1 = 'rosettacode'\n",
        "s2 = 'raisethysword'\n",
        "print(edit_distance(s1,s2))"
      ],
      "metadata": {
        "colab": {
          "base_uri": "https://localhost:8080/"
        },
        "id": "xFoKQmNUPKSu",
        "outputId": "f03896ee-233e-4407-a96f-5d4fe95b76f8"
      },
      "execution_count": 8,
      "outputs": [
        {
          "output_type": "stream",
          "name": "stdout",
          "text": [
            "8\n"
          ]
        }
      ]
    },
    {
      "cell_type": "code",
      "source": [
        "s1 = input(\"Enter initial text:\")\n",
        "s2 = input(\"Enter final text:\")\n",
        "print(f\"Edit Distance:{edit_distance(s1,s2)}\")"
      ],
      "metadata": {
        "colab": {
          "base_uri": "https://localhost:8080/"
        },
        "id": "vjr1mM_FPef9",
        "outputId": "f84a3d6c-bcdd-433d-cfd6-163e6f99e160"
      },
      "execution_count": 10,
      "outputs": [
        {
          "output_type": "stream",
          "name": "stdout",
          "text": [
            "Enter initial text:abcdef\n",
            "Enter final text:acgel\n",
            "Edit Distance:3\n"
          ]
        }
      ]
    },
    {
      "cell_type": "code",
      "source": [],
      "metadata": {
        "id": "PggX2x84Pkb1"
      },
      "execution_count": null,
      "outputs": []
    }
  ]
}