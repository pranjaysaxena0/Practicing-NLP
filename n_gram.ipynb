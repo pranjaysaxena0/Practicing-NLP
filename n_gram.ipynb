{
  "nbformat": 4,
  "nbformat_minor": 0,
  "metadata": {
    "colab": {
      "provenance": []
    },
    "kernelspec": {
      "name": "python3",
      "display_name": "Python 3"
    },
    "language_info": {
      "name": "python"
    }
  },
  "cells": [
    {
      "cell_type": "markdown",
      "source": [
        "#PRINT n-gram"
      ],
      "metadata": {
        "id": "KUB7WMbpU8S5"
      }
    },
    {
      "cell_type": "code",
      "execution_count": 2,
      "metadata": {
        "colab": {
          "base_uri": "https://localhost:8080/"
        },
        "id": "YC3KybXoTZ6V",
        "outputId": "682cfc90-2afb-4158-ebdb-f9ceb06429a7"
      },
      "outputs": [
        {
          "output_type": "stream",
          "name": "stdout",
          "text": [
            "('I',)\n",
            "('reside',)\n",
            "('in',)\n",
            "('Bhopal',)\n"
          ]
        }
      ],
      "source": [
        "from nltk import ngrams\n",
        "sentence = 'I reside in Bhopal'\n",
        "n = 1\n",
        "unigrams = ngrams(sentence.split(), n)\n",
        "for item in unigrams:\n",
        "    print(item)"
      ]
    },
    {
      "cell_type": "markdown",
      "source": [
        "#PRINT all n-grams"
      ],
      "metadata": {
        "id": "DdsLa-U2U3fb"
      }
    },
    {
      "cell_type": "code",
      "source": [
        "import nltk\n",
        "nltk.download('punkt')"
      ],
      "metadata": {
        "colab": {
          "base_uri": "https://localhost:8080/"
        },
        "id": "0bYowZ66TzwF",
        "outputId": "758c7441-638c-4675-bea6-e2d822e5d6f5"
      },
      "execution_count": 3,
      "outputs": [
        {
          "output_type": "stream",
          "name": "stderr",
          "text": [
            "[nltk_data] Downloading package punkt to /root/nltk_data...\n",
            "[nltk_data]   Unzipping tokenizers/punkt.zip.\n"
          ]
        },
        {
          "output_type": "execute_result",
          "data": {
            "text/plain": [
              "True"
            ]
          },
          "metadata": {},
          "execution_count": 3
        }
      ]
    },
    {
      "cell_type": "code",
      "source": [
        "from nltk.util import ngrams\n",
        "sampleText = 'This is a very good time to Study NLP'\n",
        "for i in range (1,4):\n",
        "  NGRAMS = ngrams(sequence=nltk.word_tokenize(sampleText), n=i)\n",
        "  for grams in NGRAMS:\n",
        "    print(grams)"
      ],
      "metadata": {
        "colab": {
          "base_uri": "https://localhost:8080/"
        },
        "id": "iOpJ_XPkUNjq",
        "outputId": "5a97591e-30f8-41d3-8950-338d4f225b27"
      },
      "execution_count": 5,
      "outputs": [
        {
          "output_type": "stream",
          "name": "stdout",
          "text": [
            "('This',)\n",
            "('is',)\n",
            "('a',)\n",
            "('very',)\n",
            "('good',)\n",
            "('time',)\n",
            "('to',)\n",
            "('Study',)\n",
            "('NLP',)\n",
            "('This', 'is')\n",
            "('is', 'a')\n",
            "('a', 'very')\n",
            "('very', 'good')\n",
            "('good', 'time')\n",
            "('time', 'to')\n",
            "('to', 'Study')\n",
            "('Study', 'NLP')\n",
            "('This', 'is', 'a')\n",
            "('is', 'a', 'very')\n",
            "('a', 'very', 'good')\n",
            "('very', 'good', 'time')\n",
            "('good', 'time', 'to')\n",
            "('time', 'to', 'Study')\n",
            "('to', 'Study', 'NLP')\n"
          ]
        }
      ]
    },
    {
      "cell_type": "markdown",
      "source": [
        "#Program to count bi-grams"
      ],
      "metadata": {
        "id": "etZfad9pVCyE"
      }
    },
    {
      "cell_type": "code",
      "source": [
        "from nltk import ngrams\n",
        "sentence = 'I reside in Bhopal'\n",
        "n = 1\n",
        "unigrams = ngrams(sentence.split(), 3)\n",
        "for item in unigrams:\n",
        "    print(item)"
      ],
      "metadata": {
        "colab": {
          "base_uri": "https://localhost:8080/"
        },
        "id": "MA-pISsJUpaL",
        "outputId": "3e2fdf8f-4811-4669-d0b4-ae6945649473"
      },
      "execution_count": 7,
      "outputs": [
        {
          "output_type": "stream",
          "name": "stdout",
          "text": [
            "('I', 'reside', 'in')\n",
            "('reside', 'in', 'Bhopal')\n"
          ]
        }
      ]
    },
    {
      "cell_type": "code",
      "source": [
        "import pandas as pd\n",
        "bigram = pd.Series(nltk.ngrams(sentence.split(),2))\n",
        "\n",
        "bigram_counts  = bigram.value_counts()\n",
        "bigram_counts"
      ],
      "metadata": {
        "colab": {
          "base_uri": "https://localhost:8080/",
          "height": 178
        },
        "id": "gon7HnAiVm9d",
        "outputId": "e3f9e596-2153-4f15-eb11-53a5b3ffe4e6"
      },
      "execution_count": 8,
      "outputs": [
        {
          "output_type": "execute_result",
          "data": {
            "text/plain": [
              "(I, reside)     1\n",
              "(reside, in)    1\n",
              "(in, Bhopal)    1\n",
              "Name: count, dtype: int64"
            ],
            "text/html": [
              "<div>\n",
              "<style scoped>\n",
              "    .dataframe tbody tr th:only-of-type {\n",
              "        vertical-align: middle;\n",
              "    }\n",
              "\n",
              "    .dataframe tbody tr th {\n",
              "        vertical-align: top;\n",
              "    }\n",
              "\n",
              "    .dataframe thead th {\n",
              "        text-align: right;\n",
              "    }\n",
              "</style>\n",
              "<table border=\"1\" class=\"dataframe\">\n",
              "  <thead>\n",
              "    <tr style=\"text-align: right;\">\n",
              "      <th></th>\n",
              "      <th>count</th>\n",
              "    </tr>\n",
              "  </thead>\n",
              "  <tbody>\n",
              "    <tr>\n",
              "      <th>(I, reside)</th>\n",
              "      <td>1</td>\n",
              "    </tr>\n",
              "    <tr>\n",
              "      <th>(reside, in)</th>\n",
              "      <td>1</td>\n",
              "    </tr>\n",
              "    <tr>\n",
              "      <th>(in, Bhopal)</th>\n",
              "      <td>1</td>\n",
              "    </tr>\n",
              "  </tbody>\n",
              "</table>\n",
              "</div><br><label><b>dtype:</b> int64</label>"
            ]
          },
          "metadata": {},
          "execution_count": 8
        }
      ]
    },
    {
      "cell_type": "code",
      "source": [],
      "metadata": {
        "id": "h-hxNS72VtVk"
      },
      "execution_count": null,
      "outputs": []
    }
  ]
}